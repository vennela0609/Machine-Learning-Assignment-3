{
  "nbformat": 4,
  "nbformat_minor": 0,
  "metadata": {
    "colab": {
      "provenance": []
    },
    "kernelspec": {
      "name": "python3",
      "display_name": "Python 3"
    },
    "language_info": {
      "name": "python"
    }
  },
  "cells": [
    {
      "cell_type": "markdown",
      "source": [
        "### 1. Numpy\n",
        "\n",
        "\n"
      ],
      "metadata": {
        "id": "Kq2d0ky4Cz2m"
      }
    },
    {
      "cell_type": "code",
      "execution_count": 21,
      "metadata": {
        "colab": {
          "base_uri": "https://localhost:8080/"
        },
        "id": "N9fbVpv6CS6A",
        "outputId": "2302ed38-b0a6-4372-dfb8-fa310bf23ac6"
      },
      "outputs": [
        {
          "output_type": "stream",
          "name": "stdout",
          "text": [
            "(3, 5)\n",
            "[[ 9 10  2  6 17]\n",
            " [ 9 11 18 17 14]\n",
            " [ 3  8  9  9  1]]\n",
            "\n",
            " [[ 9 10  2  6  0]\n",
            " [ 9 11  0 17 14]\n",
            " [ 3  8  0  0  1]]\n"
          ]
        }
      ],
      "source": [
        "# Creating random vector of size 15 having only Integers in the range 1-20.\n",
        "import numpy as np\n",
        "v =  np.random.randint(1,20,(15,))\n",
        "\n",
        "# Reshaping the array to 3 by 5 \n",
        "arr = v.reshape(3,5)\n",
        "print(arr.shape)\n",
        "print(arr)\n",
        "\n",
        "# Replacing the max in each row by 0\n",
        "row_max = arr.max(axis=1).reshape(-1,1)\n",
        "arr = np.where(arr == row_max, 0, arr)\n",
        "print('\\n',arr)"
      ]
    },
    {
      "cell_type": "code",
      "source": [
        "# Create a 2-dimensional array of size 4 x 3 (composed of 4-byte integer elements), also print the shape, type and data type of the array\n",
        "x = np.array([[1, 2, 3], [4, 5, 6], [7, 8, 9], [10, 5, 7]], np.int32)\n",
        "print('Shape:', x.shape)\n",
        "print('Type:', type(x))\n",
        "print('Data type:', x.dtype)"
      ],
      "metadata": {
        "colab": {
          "base_uri": "https://localhost:8080/"
        },
        "id": "YOD78H8RMiZK",
        "outputId": "f17f31e7-49ec-4f5a-a25b-61df5f2c3cbf"
      },
      "execution_count": 27,
      "outputs": [
        {
          "output_type": "stream",
          "name": "stdout",
          "text": [
            "Shape: (4, 3)\n",
            "Type: <class 'numpy.ndarray'>\n",
            "Data type: int32\n"
          ]
        }
      ]
    },
    {
      "cell_type": "code",
      "source": [
        "# Computing the eigenvalues and right eigenvectors\n",
        "from numpy import linalg as LA\n",
        "mat = np.array([[3, -2], [1, 0]], np.int32)\n",
        "w, v = LA.eig(mat)\n",
        "print('Eigenvalues:', w)\n",
        "print('\\nRight eigenvectors:\\n', v)"
      ],
      "metadata": {
        "colab": {
          "base_uri": "https://localhost:8080/"
        },
        "id": "jftyj3YoQ-ep",
        "outputId": "7ef8f8e1-d5cd-4f59-d40d-ece25aa08957"
      },
      "execution_count": 34,
      "outputs": [
        {
          "output_type": "stream",
          "name": "stdout",
          "text": [
            "Eigenvalues: [2. 1.]\n",
            "\n",
            "Right eigenvectors:\n",
            " [[0.89442719 0.70710678]\n",
            " [0.4472136  0.70710678]]\n"
          ]
        }
      ]
    },
    {
      "cell_type": "code",
      "source": [
        "# Computing the sum of the diagonal element\n",
        "n = np.array([[0, 1, 2], [3, 4, 5]])\n",
        "res = np.trace(n)\n",
        "print('Sum of diagonal elements:', res)"
      ],
      "metadata": {
        "colab": {
          "base_uri": "https://localhost:8080/"
        },
        "id": "bxjoYiUDVO-f",
        "outputId": "7cefa9b3-2f80-4975-8fdc-f9b184e71b82"
      },
      "execution_count": 35,
      "outputs": [
        {
          "output_type": "stream",
          "name": "stdout",
          "text": [
            "Sum of diagonal elements: 4\n"
          ]
        }
      ]
    },
    {
      "cell_type": "code",
      "source": [
        "m = np.arange(1,7).reshape(3,2)\n",
        "m = m.reshape(2,3)\n",
        "m"
      ],
      "metadata": {
        "colab": {
          "base_uri": "https://localhost:8080/"
        },
        "id": "TzwyqPlAV9bB",
        "outputId": "4b726878-3bff-4536-9de3-940b9d8038b1"
      },
      "execution_count": 41,
      "outputs": [
        {
          "output_type": "execute_result",
          "data": {
            "text/plain": [
              "array([[1, 2, 3],\n",
              "       [4, 5, 6]])"
            ]
          },
          "metadata": {},
          "execution_count": 41
        }
      ]
    },
    {
      "cell_type": "markdown",
      "source": [
        "### 2. Matplotlib"
      ],
      "metadata": {
        "id": "GYQmXb2zXT6u"
      }
    },
    {
      "cell_type": "code",
      "source": [
        "import matplotlib.pyplot as plt\n",
        "languages = ['Java', 'Python', 'PHP', 'JavaScript', 'C#', 'C++']\n",
        "popularity = np.array([22.2, 17.6, 8.8, 8, 7.7, 6.7])\n",
        "exp = [0.2, 0, 0, 0, 0, 0]\n",
        "plt.pie(popularity, labels = languages, explode = exp, shadow = True, autopct='%1.1f%%', startangle = 135)\n",
        "plt.show()"
      ],
      "metadata": {
        "colab": {
          "base_uri": "https://localhost:8080/",
          "height": 248
        },
        "id": "Ov2BxoVrXZzq",
        "outputId": "d49941e5-6f37-4765-eb78-564fbe79b9e4"
      },
      "execution_count": 48,
      "outputs": [
        {
          "output_type": "display_data",
          "data": {
            "text/plain": [
              "<Figure size 432x288 with 1 Axes>"
            ],
            "image/png": "[encoded data removed]"
          },
          "metadata": {}
        }
      ]
    }
  ]
}